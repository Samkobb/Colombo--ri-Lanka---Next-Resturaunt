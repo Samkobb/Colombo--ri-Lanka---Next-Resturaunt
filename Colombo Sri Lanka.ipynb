{
 "cells": [
  {
   "cell_type": "markdown",
   "metadata": {},
   "source": [
    "<h1> Set Up a new Restaraunt in Sri Lanka</h1>\n",
    "\n",
    "<h3>Introduction </h3>\n",
    "<br/>\n",
    "\n",
    "Sri Lanka known as the <i>Pearl of the Indian Ocean </i> is a popular tourist destination. With spectacular sites to visit and great natural beauty it has been judged as the #1 place to visit for multiple years.\n",
    "\n",
    "Sri Lanka also has a very vibrant food scene. It has its own unique flavours and food culture. Apart from this there are many international chains plus food trends that have spread across the country to cater to all the tourists and changing demographic of local taste buds. \n",
    "\n",
    "<h3>Problem </h3>\n",
    "<br/>\n",
    "The lack of insight into proper data causes many resturaunts to open and close frequently due to lack of revenue and improper location selection.\n",
    "\n",
    "This project will analyse the spread of resturaunts across the Colombo specifically (The capital of Sri Lanka), to identify possible locations we can open up a new restarunt. \n",
    "\n",
    "This will help new restraunt owners entrepreneurs and local / internationl food chains decide on the possible place they should open the new resturaunt and what type of a restauraunt will be best suitable."
   ]
  },
  {
   "cell_type": "markdown",
   "metadata": {},
   "source": [
    "<h3> Data Used an analysis Techniques </h3>\n",
    "\n",
    "<ul>\n",
    "\n",
    "\n",
    "<li>Foursquare data will be used to analyse the restaraunts/ types and their spread across Colombo. </li>\n",
    "\n",
    "<li>Data from the tourism board will be used to analyse most common places visited by people.</li>\n",
    "\n",
    "<li>Foursquare data will be used to checkout places where tourists have checked in mostly to identify which areas people mostly tend to dine out at.</li>\n",
    "\n",
    "<li>These data will be mapped out to decide on the best location and type of restaraunt to use.</li>\n",
    "\n",
    "</ul>\n",
    "\n",
    "\n"
   ]
  }
 ],
 "metadata": {
  "kernelspec": {
   "display_name": "Python 3",
   "language": "python",
   "name": "python3"
  },
  "language_info": {
   "codemirror_mode": {
    "name": "ipython",
    "version": 3
   },
   "file_extension": ".py",
   "mimetype": "text/x-python",
   "name": "python",
   "nbconvert_exporter": "python",
   "pygments_lexer": "ipython3",
   "version": "3.7.4"
  }
 },
 "nbformat": 4,
 "nbformat_minor": 2
}
